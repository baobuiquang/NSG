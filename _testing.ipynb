{
 "cells": [
  {
   "cell_type": "code",
   "execution_count": 62,
   "id": "5e7df79a",
   "metadata": {},
   "outputs": [],
   "source": [
    "import csv\n",
    "\n",
    "with open('static/knowledge_sanphams.csv', mode='r', newline='', encoding='utf-8') as f:\n",
    "    knowledge_sanphams = [e for e in csv.DictReader(f)]"
   ]
  },
  {
   "cell_type": "code",
   "execution_count": 63,
   "id": "9a939030",
   "metadata": {},
   "outputs": [
    {
     "name": "stdout",
     "output_type": "stream",
     "text": [
      "d6vascb240t -1\n",
      "d8vascb240t -1\n",
      "d10vascb400v 11.7m/c -1\n",
      "d12vascb400v 11.7m/c -1\n"
     ]
    }
   ],
   "source": [
    "gr_jsonapi = {\n",
    "  \"Khách hàng\": {\n",
    "    \"Tên\": \"CÔNG TY CP KINH DOANH THƯƠNG MẠI THÉP ĐẠI VIỆT\",\n",
    "    \"Địa chỉ\": \"Ô 14, Lô H3, Đường số 1, KDC Vĩnh Phú 2,\\nPhường Vĩnh Phú, Thành phố Thuận An, Tỉnh Bình Dương\"\n",
    "  },\n",
    "  \"Danh sách vật tư\": [\n",
    "    {\n",
    "      \"Vật tư\": \"D6VASCB240T\",\n",
    "      \"Xuất xứ\": \"-1\",\n",
    "      \"Khối lượng - Số lượng\": {\n",
    "        \"Giá trị\": 2100,\n",
    "        \"Đơn vị\": \"kg\"\n",
    "      },\n",
    "      \"Ghi chú vật tư\": \"-1\"\n",
    "    },\n",
    "    {\n",
    "      \"Vật tư\": \"D8VASCB240T\",\n",
    "      \"Xuất xứ\": \"-1\",\n",
    "      \"Khối lượng - Số lượng\": {\n",
    "        \"Giá trị\": 2100,\n",
    "        \"Đơn vị\": \"kg\"\n",
    "      },\n",
    "      \"Ghi chú vật tư\": \"-1\"\n",
    "    },\n",
    "    {\n",
    "      \"Vật tư\": \"D10VASCB400V 11.7m/c\",\n",
    "      \"Xuất xứ\": \"-1\",\n",
    "      \"Khối lượng - Số lượng\": {\n",
    "        \"Giá trị\": 6890,\n",
    "        \"Đơn vị\": \"kg\"\n",
    "      },\n",
    "      \"Ghi chú vật tư\": \"2 bó, 120 cây lẻ\"\n",
    "    },\n",
    "    {\n",
    "      \"Vật tư\": \"D12VASCB400V 11.7m/c\",\n",
    "      \"Xuất xứ\": \"-1\",\n",
    "      \"Khối lượng - Số lượng\": {\n",
    "        \"Giá trị\": 3462,\n",
    "        \"Đơn vị\": \"kg\"\n",
    "      },\n",
    "      \"Ghi chú vật tư\": \"1 bó, 30 cây lẻ\"\n",
    "    },\n",
    "  ],\n",
    "  \"Ghi chú chung\": \"*Hàng hóa mới 100%, không bị nứt nẻ, hàng cấp đúng tiêu chuẩn.\\nHàng thẳng Hàng cong Phiếu KCS\\nX\\nX\"\n",
    "}\n",
    "\n",
    "for i, vattu_og in enumerate(gr_jsonapi['Danh sách vật tư']):\n",
    "    vattu_og_info_str = f\"{vattu_og['Vật tư']} {vattu_og['Xuất xứ']}\".lower()\n",
    "    print(vattu_og_info_str)\n",
    "    # gr_jsonapi['Danh sách vật tư'][i]['Mã nội bộ'] = \"...\""
   ]
  },
  {
   "cell_type": "code",
   "execution_count": 64,
   "id": "f6bbcf16",
   "metadata": {},
   "outputs": [
    {
     "data": {
      "text/plain": [
       "{'macthep': 'cb400v', 'duongkinh': 'd12', 'hinhdang': None, 'xuatxu': None}"
      ]
     },
     "execution_count": 64,
     "metadata": {},
     "output_type": "execute_result"
    }
   ],
   "source": [
    "vattu_og_info_str = \"d12cb400v 11.7m/c -1\"\n",
    "\n",
    "vattu_info = {\n",
    "    \"macthep\": None,\n",
    "    \"duongkinh\": None,\n",
    "    \"hinhdang\": None,\n",
    "    \"xuatxu\": None,\n",
    "}\n",
    "\n",
    "for e in list(set([e['macthep'].lower() for e in knowledge_sanphams])):\n",
    "    if e in vattu_og_info_str:\n",
    "        vattu_info['macthep'] = e\n",
    "for e in list(set([e['duongkinh'].lower() for e in knowledge_sanphams])):\n",
    "    if e in vattu_og_info_str:\n",
    "        vattu_info['duongkinh'] = e\n",
    "for e in list(set([e['hinhdang'].lower() for e in knowledge_sanphams])):\n",
    "    if e in vattu_og_info_str:\n",
    "        vattu_info['hinhdang'] = e\n",
    "for e in list(set([e['xuatxu'].lower() for e in knowledge_sanphams])):\n",
    "    if e in vattu_og_info_str:\n",
    "        vattu_info['xuatxu'] = e\n",
    "\n",
    "vattu_info"
   ]
  },
  {
   "cell_type": "code",
   "execution_count": 65,
   "id": "1e4e5b6e",
   "metadata": {},
   "outputs": [
    {
     "name": "stdout",
     "output_type": "stream",
     "text": [
      "7\n"
     ]
    },
    {
     "data": {
      "text/plain": [
       "[{'manoibo': 'M12',\n",
       "  'tensanpham': 'Thép gân D12 CB400V',\n",
       "  'hinhdang': 'gân',\n",
       "  'duongkinh': 'D12',\n",
       "  'macthep': 'CB400V',\n",
       "  'xuatxu': 'VNS'},\n",
       " {'manoibo': 'TH12',\n",
       "  'tensanpham': 'Thép gân D12 CB400V',\n",
       "  'hinhdang': 'gân',\n",
       "  'duongkinh': 'D12',\n",
       "  'macthep': 'CB400V',\n",
       "  'xuatxu': 'THS'},\n",
       " {'manoibo': 'H12',\n",
       "  'tensanpham': 'Thép gân D12 CB400V',\n",
       "  'hinhdang': 'gân',\n",
       "  'duongkinh': 'D12',\n",
       "  'macthep': 'CB400V',\n",
       "  'xuatxu': 'HPG'},\n",
       " {'manoibo': 'P12',\n",
       "  'tensanpham': 'Thép gân D12 CB400V',\n",
       "  'hinhdang': 'gân',\n",
       "  'duongkinh': 'D12',\n",
       "  'macthep': 'CB400V',\n",
       "  'xuatxu': 'POM'},\n",
       " {'manoibo': 'VAS12C4',\n",
       "  'tensanpham': 'Thép gân D12 CB400V',\n",
       "  'hinhdang': 'gân',\n",
       "  'duongkinh': 'D12',\n",
       "  'macthep': 'CB400V',\n",
       "  'xuatxu': 'VAS'},\n",
       " {'manoibo': 'VD12C4',\n",
       "  'tensanpham': 'Thép gân D12 CB400V',\n",
       "  'hinhdang': 'gân',\n",
       "  'duongkinh': 'D12',\n",
       "  'macthep': 'CB400V',\n",
       "  'xuatxu': 'VGS'},\n",
       " {'manoibo': 'VKS12',\n",
       "  'tensanpham': 'Thép gân D12 CB400V',\n",
       "  'hinhdang': 'gân',\n",
       "  'duongkinh': 'D12',\n",
       "  'macthep': 'CB400V',\n",
       "  'xuatxu': 'VKS'}]"
      ]
     },
     "execution_count": 65,
     "metadata": {},
     "output_type": "execute_result"
    }
   ],
   "source": [
    "# Filter knowledge_sanphams by vattu_info\n",
    "possible_sanphams = []\n",
    "for e in knowledge_sanphams:\n",
    "    if e['macthep'].lower()==vattu_info['macthep'] or vattu_info['macthep']==None:\n",
    "        if e['duongkinh'].lower()==vattu_info['duongkinh'] or vattu_info['duongkinh']==None:\n",
    "            if e['hinhdang'].lower()==vattu_info['hinhdang'] or vattu_info['hinhdang']==None:\n",
    "                if e['xuatxu'].lower()==vattu_info['xuatxu'] or vattu_info['xuatxu']==None:\n",
    "                    possible_sanphams.append(e)\n",
    "\n",
    "print(len(possible_sanphams))\n",
    "possible_sanphams"
   ]
  }
 ],
 "metadata": {
  "kernelspec": {
   "display_name": "_venv",
   "language": "python",
   "name": "python3"
  },
  "language_info": {
   "codemirror_mode": {
    "name": "ipython",
    "version": 3
   },
   "file_extension": ".py",
   "mimetype": "text/x-python",
   "name": "python",
   "nbconvert_exporter": "python",
   "pygments_lexer": "ipython3",
   "version": "3.13.3"
  }
 },
 "nbformat": 4,
 "nbformat_minor": 5
}
