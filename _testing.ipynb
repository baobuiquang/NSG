{
 "cells": [
  {
   "cell_type": "code",
   "execution_count": null,
   "id": "5e7df79a",
   "metadata": {},
   "outputs": [],
   "source": [
    "import csv\n",
    "\n",
    "with open('static/knowledge_sanphams.csv', mode='r', newline='', encoding='utf-8') as f:\n",
    "    knowledge_sanphams = [e for e in csv.DictReader(f)]"
   ]
  },
  {
   "cell_type": "code",
   "execution_count": null,
   "id": "9a939030",
   "metadata": {},
   "outputs": [
    {
     "name": "stdout",
     "output_type": "stream",
     "text": [
      "Thép F08 - AI\n",
      "-1\n",
      "Thép F10 - AIII\n",
      "hoà phát\n",
      "Thép F14 - AIII\n",
      "pomina\n"
     ]
    }
   ],
   "source": [
    "gr_jsonapi = {\n",
    "  \"Khách hàng\": {\n",
    "    \"Tên\": \"CÔNG TY CỔ PHẦN PC1 MIỀN NAM\",\n",
    "    \"Địa chỉ\": \"-1\"\n",
    "  },\n",
    "  \"Danh sách vật tư\": [\n",
    "    {\n",
    "      \"Vật tư\": \"Thép F08 - AI\",\n",
    "      \"Xuất xứ\": \"-1\",\n",
    "      \"Khối lượng - Số lượng\": {\n",
    "        \"Giá trị\": 2338.82,\n",
    "        \"Đơn vị\": \"kg\"\n",
    "      },\n",
    "      \"Ghi chú vật tư\": \"-1\",\n",
    "      \"Mã nội bộ\": \"-1\"\n",
    "    },\n",
    "    {\n",
    "      \"Vật tư\": \"Thép F10 - AIII\",\n",
    "      \"Xuất xứ\": \"hoà phát\",\n",
    "      \"Khối lượng - Số lượng\": {\n",
    "        \"Giá trị\": 1144.77,\n",
    "        \"Đơn vị\": \"kg\"\n",
    "      },\n",
    "      \"Ghi chú vật tư\": \"-1\",\n",
    "      \"Mã nội bộ\": \"-1\"\n",
    "    },\n",
    "    {\n",
    "      \"Vật tư\": \"Thép F14 - AIII\",\n",
    "      \"Xuất xứ\": \"pomina\",\n",
    "      \"Khối lượng - Số lượng\": {\n",
    "        \"Giá trị\": 9079.69,\n",
    "        \"Đơn vị\": \"kg\"\n",
    "      },\n",
    "      \"Ghi chú vật tư\": \"-1\",\n",
    "      \"Mã nội bộ\": \"-1\"\n",
    "    },\n",
    "  ],\n",
    "  \"Ghi chú chung\": \"Thời gian đề nghị cấp: ngày 06/02/2025\\nĐịa điểm tiếp nhận: Tại vị trí móng 39 thuộc Tam Phước - Biên Hòa - Đồng Nai. Công ty Minh Phương Mr\\nĐịnh SDT: +84 977 408 985\"\n",
    "}\n",
    "\n",
    "for i, e in enumerate(gr_jsonapi['Danh sách vật tư']):\n",
    "    print(e['Vật tư'])\n",
    "    print(e['Xuất xứ'])\n",
    "    gr_jsonapi['Danh sách vật tư'][i]['Mã nội bộ'] = \"...\""
   ]
  }
 ],
 "metadata": {
  "kernelspec": {
   "display_name": "_venv",
   "language": "python",
   "name": "python3"
  },
  "language_info": {
   "codemirror_mode": {
    "name": "ipython",
    "version": 3
   },
   "file_extension": ".py",
   "mimetype": "text/x-python",
   "name": "python",
   "nbconvert_exporter": "python",
   "pygments_lexer": "ipython3",
   "version": "3.13.3"
  }
 },
 "nbformat": 4,
 "nbformat_minor": 5
}
