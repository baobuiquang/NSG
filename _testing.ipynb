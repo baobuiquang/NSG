{
 "cells": [
  {
   "cell_type": "code",
   "execution_count": null,
   "id": "3e8b1df0",
   "metadata": {},
   "outputs": [],
   "source": [
    "# TODO: Read files: image (TDET + POCR + VOCR), pdf, excel, docx, text\n",
    "# TODO: Combine TDET + POCR + VOCR -> VDOCR\n",
    "# TODO: Put VDOCR into gradio app"
   ]
  }
 ],
 "metadata": {
  "kernelspec": {
   "display_name": "_venv",
   "language": "python",
   "name": "python3"
  },
  "language_info": {
   "codemirror_mode": {
    "name": "ipython",
    "version": 3
   },
   "file_extension": ".py",
   "mimetype": "text/x-python",
   "name": "python",
   "nbconvert_exporter": "python",
   "pygments_lexer": "ipython3",
   "version": "3.13.3"
  }
 },
 "nbformat": 4,
 "nbformat_minor": 5
}
