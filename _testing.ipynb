{
 "cells": [
  {
   "cell_type": "code",
   "execution_count": 1,
   "id": "3e8b1df0",
   "metadata": {},
   "outputs": [],
   "source": [
    "# TODO: Read files: image (TDET + POCR + VOCR), pdf, excel, docx, text\n",
    "# TODO: Combine TDET + POCR + VOCR -> VDOCR\n",
    "# TODO: Put VDOCR into gradio app"
   ]
  },
  {
   "cell_type": "code",
   "execution_count": 2,
   "id": "ee29f3d5",
   "metadata": {},
   "outputs": [],
   "source": [
    "from pkg.VDOCR.TDET.TDET import Process_TDET\n",
    "from pkg.VDOCR.POCR.POCR import Process_POCR\n",
    "from pkg.VDOCR.VOCR.VOCR import Process_VOCR\n",
    "import pkg.UTILS.UTILS as UTILS\n",
    "import cv2"
   ]
  },
  {
   "cell_type": "code",
   "execution_count": 3,
   "id": "183c1b05",
   "metadata": {},
   "outputs": [],
   "source": [
    "img_ocv = cv2.imread(\"_test/img_17.jpg\")\n",
    "img_ocv = UTILS.preprocess_document_image(img_ocv)"
   ]
  },
  {
   "cell_type": "code",
   "execution_count": 4,
   "id": "e4f93532",
   "metadata": {},
   "outputs": [],
   "source": [
    "tables_bboxes = Process_TDET(img_ocv)\n",
    "texts_bboxes = Process_POCR(img_ocv, padding_ratio=0.2)"
   ]
  },
  {
   "cell_type": "code",
   "execution_count": null,
   "id": "43d8e37a",
   "metadata": {},
   "outputs": [],
   "source": [
    "# text = Process_VOCR(\"_test/img_18.jpg\")"
   ]
  }
 ],
 "metadata": {
  "kernelspec": {
   "display_name": "_venv",
   "language": "python",
   "name": "python3"
  },
  "language_info": {
   "codemirror_mode": {
    "name": "ipython",
    "version": 3
   },
   "file_extension": ".py",
   "mimetype": "text/x-python",
   "name": "python",
   "nbconvert_exporter": "python",
   "pygments_lexer": "ipython3",
   "version": "3.13.3"
  }
 },
 "nbformat": 4,
 "nbformat_minor": 5
}
